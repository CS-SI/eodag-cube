{
 "cells": [
  {
   "cell_type": "markdown",
   "id": "4599920a-2f53-42fc-8509-3991c7a8f65e",
   "metadata": {},
   "source": [
    "# How to clip / reproject a dataset"
   ]
  },
  {
   "cell_type": "markdown",
   "id": "8645f3db-482e-4ba0-ab30-007e9f69795f",
   "metadata": {},
   "source": [
    "## Getting a dataset"
   ]
  },
  {
   "cell_type": "code",
   "execution_count": null,
   "id": "cb3491be-3f27-4fd0-973e-a45c81c80cb6",
   "metadata": {},
   "outputs": [],
   "source": [
    "from eodag import EODataAccessGateway\n",
    "\n",
    "dag = EODataAccessGateway()\n",
    "product_type = 'S2_MSI_L2A_COG'\n",
    "footprint = {'lonmin': -10, 'latmin': 20, 'lonmax': 10, 'latmax': 40}\n",
    "start, end = '2020-06-04', '2020-06-05'\n",
    "search_results = dag.search(productType=product_type, start=start, end=end)\n",
    "product = search_results[0]\n",
    "asset = product.assets['aot']\n",
    "ds = asset.to_xarray()"
   ]
  },
  {
   "cell_type": "markdown",
   "id": "d3a392cd-9b2c-4e75-912c-4bbdf300bf55",
   "metadata": {},
   "source": [
    "## Clip / reproject"
   ]
  },
  {
   "cell_type": "code",
   "execution_count": null,
   "id": "913a29bd-f6d6-4ead-a2cc-a13595bcb6f7",
   "metadata": {},
   "outputs": [],
   "source": [
    "ds.rio.clip([search_results[0].search_intersection.__geo_interface__], \"EPSG:4326\")"
   ]
  }
 ],
 "metadata": {
  "kernelspec": {
   "display_name": "Python 3 (ipykernel)",
   "language": "python",
   "name": "python3"
  },
  "language_info": {
   "codemirror_mode": {
    "name": "ipython",
    "version": 3
   },
   "file_extension": ".py",
   "mimetype": "text/x-python",
   "name": "python",
   "nbconvert_exporter": "python",
   "pygments_lexer": "ipython3",
   "version": "3.13.0"
  }
 },
 "nbformat": 4,
 "nbformat_minor": 5
}
